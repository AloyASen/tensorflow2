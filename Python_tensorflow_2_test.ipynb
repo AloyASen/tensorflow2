{
  "nbformat": 4,
  "nbformat_minor": 0,
  "metadata": {
    "colab": {
      "name": "Python- tensorflow 2 test.ipynb",
      "version": "0.3.2",
      "provenance": [],
      "collapsed_sections": [],
      "include_colab_link": true
    },
    "kernelspec": {
      "name": "python3",
      "display_name": "Python 3"
    }
  },
  "cells": [
    {
      "cell_type": "markdown",
      "metadata": {
        "id": "view-in-github",
        "colab_type": "text"
      },
      "source": [
        "<a href=\"https://colab.research.google.com/github/AloyASen/tensorflow2/blob/master/Python_tensorflow_2_test.ipynb\" target=\"_parent\"><img src=\"https://colab.research.google.com/assets/colab-badge.svg\" alt=\"Open In Colab\"/></a>"
      ]
    },
    {
      "metadata": {
        "id": "EmHW2l68Un7R",
        "colab_type": "code",
        "colab": {}
      },
      "cell_type": "code",
      "source": [
        "pip install -q tensorflow==2.0.0-alpha0"
      ],
      "execution_count": 0,
      "outputs": []
    },
    {
      "metadata": {
        "id": "ESwBOCAZYPew",
        "colab_type": "text"
      },
      "cell_type": "markdown",
      "source": [
        "this above portion installs the library and starts installing from pypi"
      ]
    },
    {
      "metadata": {
        "id": "duh5BlZWYe3d",
        "colab_type": "code",
        "colab": {
          "base_uri": "https://localhost:8080/",
          "height": 119
        },
        "outputId": "233e3ec4-83da-4dcf-8676-0f277dedf658"
      },
      "cell_type": "code",
      "source": [
        "from __future__ import absolute_import, division, print_function,unicode_literals\n",
        "!pip install -q tensorflow==2.0.0-alpha0\n",
        "import tensorflow as tf\n",
        "\n",
        "#set the execution strategy of the codebase though default is eager execute\n",
        "tf.executing_eagerly()\n",
        "x=[[2.]]\n",
        "m=tf.matmul(x, x)\n",
        "print (\"hello , {}\".format(m))\n",
        "\n",
        "a=tf.constant([[1,2],[3,4]])\n",
        "print(a)\n",
        "\n",
        "#use numpy values\n",
        "import numpy as np\n",
        "\n",
        "c=np.multiply(a,a)\n",
        "print(c)"
      ],
      "execution_count": 5,
      "outputs": [
        {
          "output_type": "stream",
          "text": [
            "hello , [[4.]]\n",
            "tf.Tensor(\n",
            "[[1 2]\n",
            " [3 4]], shape=(2, 2), dtype=int32)\n",
            "[[ 1  4]\n",
            " [ 9 16]]\n"
          ],
          "name": "stdout"
        }
      ]
    },
    {
      "metadata": {
        "id": "3WCnJmMdan44",
        "colab_type": "code",
        "colab": {}
      },
      "cell_type": "code",
      "source": [
        ""
      ],
      "execution_count": 0,
      "outputs": []
    }
  ]
}